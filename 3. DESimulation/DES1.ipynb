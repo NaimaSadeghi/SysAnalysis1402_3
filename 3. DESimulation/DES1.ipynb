{
 "cells": [
  {
   "cell_type": "code",
   "execution_count": 6,
   "metadata": {},
   "outputs": [],
   "source": [
    "import simpm.des as des\n",
    "\n",
    "env=des.Environment()\n"
   ]
  },
  {
   "cell_type": "code",
   "execution_count": 7,
   "metadata": {},
   "outputs": [
    {
     "name": "stdout",
     "output_type": "stream",
     "text": [
      "car1(1) is created, sim_time: 0\n",
      "car2(2) is created, sim_time: 0\n",
      "car3(3) is created, sim_time: 0\n"
     ]
    }
   ],
   "source": [
    "car1=des.Entity(env,\"car1\",True)\n",
    "car2=des.Entity(env,\"car2\",True)\n",
    "car3=des.Entity(env,\"car3\",True)\n",
    "lot=des.Resource(env,\"parking-lot\",init=2,print_actions=True,log=True)"
   ]
  },
  {
   "cell_type": "code",
   "execution_count": 8,
   "metadata": {},
   "outputs": [],
   "source": [
    "def car_process(carent,lot):\n",
    "    while True:\n",
    "        yield carent.get(lot,1)\n",
    "        yield carent.do(\"park\",5)\n",
    "        yield carent.put(lot,1)\n",
    "        yield carent.do(\"drive\",3)\n",
    "\n"
   ]
  },
  {
   "cell_type": "code",
   "execution_count": 9,
   "metadata": {},
   "outputs": [
    {
     "name": "stdout",
     "output_type": "stream",
     "text": [
      "car1(1) requested 1 parking-lot(s)(1), sim_time: 0\n",
      "car2(2) requested 1 parking-lot(s)(1), sim_time: 0\n",
      "car3(3) requested 1 parking-lot(s)(1), sim_time: 0\n",
      "car1(1) got 1 parking-lot(s)(1), sim_time: 0\n",
      "car2(2) got 1 parking-lot(s)(1), sim_time: 0\n",
      "car1(1) started park , sim_time: 0\n",
      "car2(2) started park , sim_time: 0\n",
      "car1(1) finished park , sim_time: 5\n",
      "car2(2) finished park , sim_time: 5\n",
      "car1(1) put back 1 parking-lot(s)(1), sim_time: 5\n",
      "car2(2) put back 1 parking-lot(s)(1), sim_time: 5\n",
      "car1(1) started drive , sim_time: 5\n",
      "car3(3) got 1 parking-lot(s)(1), sim_time: 5\n",
      "car2(2) started drive , sim_time: 5\n",
      "car3(3) started park , sim_time: 5\n",
      "car1(1) finished drive , sim_time: 8\n",
      "car2(2) finished drive , sim_time: 8\n",
      "car1(1) requested 1 parking-lot(s)(1), sim_time: 8\n",
      "car2(2) requested 1 parking-lot(s)(1), sim_time: 8\n",
      "car1(1) got 1 parking-lot(s)(1), sim_time: 8\n",
      "car1(1) started park , sim_time: 8\n",
      "car3(3) finished park , sim_time: 10\n",
      "car3(3) put back 1 parking-lot(s)(1), sim_time: 10\n",
      "car3(3) started drive , sim_time: 10\n",
      "car2(2) got 1 parking-lot(s)(1), sim_time: 10\n",
      "car2(2) started park , sim_time: 10\n",
      "car1(1) finished park , sim_time: 13\n",
      "car3(3) finished drive , sim_time: 13\n",
      "car3(3) requested 1 parking-lot(s)(1), sim_time: 13\n",
      "car1(1) put back 1 parking-lot(s)(1), sim_time: 13\n",
      "car1(1) started drive , sim_time: 13\n",
      "car3(3) got 1 parking-lot(s)(1), sim_time: 13\n",
      "car3(3) started park , sim_time: 13\n",
      "car2(2) finished park , sim_time: 15\n",
      "car2(2) put back 1 parking-lot(s)(1), sim_time: 15\n",
      "car2(2) started drive , sim_time: 15\n",
      "car1(1) finished drive , sim_time: 16\n",
      "car1(1) requested 1 parking-lot(s)(1), sim_time: 16\n",
      "car1(1) got 1 parking-lot(s)(1), sim_time: 16\n",
      "car1(1) started park , sim_time: 16\n",
      "car3(3) finished park , sim_time: 18\n",
      "car2(2) finished drive , sim_time: 18\n",
      "car2(2) requested 1 parking-lot(s)(1), sim_time: 18\n",
      "car3(3) put back 1 parking-lot(s)(1), sim_time: 18\n",
      "car3(3) started drive , sim_time: 18\n",
      "car2(2) got 1 parking-lot(s)(1), sim_time: 18\n",
      "car2(2) started park , sim_time: 18\n"
     ]
    }
   ],
   "source": [
    "env.process(car_process(car1,lot))\n",
    "env.process(car_process(car2,lot))\n",
    "env.process(car_process(car3,lot))\n",
    "env.run(until=20)"
   ]
  },
  {
   "cell_type": "code",
   "execution_count": 10,
   "metadata": {},
   "outputs": [
    {
     "data": {
      "text/plain": [
       "20"
      ]
     },
     "execution_count": 10,
     "metadata": {},
     "output_type": "execute_result"
    }
   ],
   "source": [
    "car3.waiting_time().sum()\n",
    "env.now"
   ]
  },
  {
   "cell_type": "code",
   "execution_count": 11,
   "metadata": {},
   "outputs": [
    {
     "data": {
      "text/plain": [
       "0.875"
      ]
     },
     "execution_count": 11,
     "metadata": {},
     "output_type": "execute_result"
    }
   ],
   "source": [
    "lot.waiting_time().mean()\n"
   ]
  },
  {
   "cell_type": "markdown",
   "metadata": {},
   "source": [
    "Earth moving example \n",
    "* We have 3 trucks\n",
    "* Cpacity of trucks is 10 m3\n",
    "* Loading Time is 10 minutes\n",
    "* Haul Time(Minutes) is 30 minutes\n",
    "* Dump Time (Minutes): 5 minutes\n",
    "* Return Time (Minutes):10 minutes \n",
    "How long does it take to dump 10000 m3 of dirt? "
   ]
  },
  {
   "cell_type": "code",
   "execution_count": 12,
   "metadata": {},
   "outputs": [],
   "source": [
    "import simpm.des as des\n",
    "env=des.Environment()\n",
    "\n",
    "t1=des.Entity(env,\"truck\")\n",
    "t2=des.Entity(env,\"truck\")\n",
    "t3=des.Entity(env,\"truck\")\n",
    "t4=des.Entity(env,\"truck\")\n",
    "t5=des.Entity(env,\"truck\")\n",
    "\n",
    "dirt=des.Resource(env,\"dirt\",init=10000,capacity=10000)\n",
    "loader=des.Resource(env,\"loader\",init=2)\n",
    "dump_station=des.Resource(env,\"dump_station\",init=1)\n",
    "\n",
    "def truck_process(truck_e,loader,dump_station,dirt):\n",
    "    while True:\n",
    "        yield truck_e.get(loader,1)\n",
    "        yield truck_e.get(dirt,10)\n",
    "        yield truck_e.do(\"loading\",10)\n",
    "        yield truck_e.put(loader,1)\n",
    "        yield truck_e.do(\"hauling\",30)\n",
    "        yield truck_e.get(dump_station,1)\n",
    "        yield truck_e.do(\"dumping\",5)\n",
    "        yield truck_e.put(dump_station,1)\n",
    "        yield truck_e.do(\"returning\",10)\n",
    "\n",
    "\n",
    "env.process(truck_process(t1,loader,dump_station,dirt))\n",
    "env.process(truck_process(t2,loader,dump_station,dirt))\n",
    "env.process(truck_process(t3,loader,dump_station,dirt))\n",
    "env.process(truck_process(t4,loader,dump_station,dirt))\n",
    "env.process(truck_process(t5,loader,dump_station,dirt))\n",
    "\n",
    "env.run()        \n"
   ]
  },
  {
   "cell_type": "code",
   "execution_count": 13,
   "metadata": {},
   "outputs": [
    {
     "data": {
      "text/plain": [
       "11020"
      ]
     },
     "execution_count": 13,
     "metadata": {},
     "output_type": "execute_result"
    }
   ],
   "source": [
    "env.now"
   ]
  },
  {
   "cell_type": "code",
   "execution_count": 14,
   "metadata": {},
   "outputs": [],
   "source": [
    "arrival_time=[2,4,6,12,15,17,18,18]\n",
    "import simpm.des as des\n",
    "import simpm.dist as dist\n",
    "env=des.Environment()\n",
    "myCustomers=[]\n",
    "s=des.Resource(env,\"servant\",1)\n",
    "\n",
    "\n",
    "def customer_process(c,arrival,servant):\n",
    "    yield c.do(\"arrive\",arrival)\n",
    "    yield c.get(servant,1)\n",
    "    yield c.do(\"get_served\",dist.norm(5,1))\n",
    "    yield c.put(servant,1)\n",
    "\n",
    "for t in arrival_time:\n",
    "    c=des.Entity(env,\"customer\")\n",
    "    myCustomers.append(c)\n",
    "    env.process(customer_process(c,t,s))\n",
    "\n",
    "env.run()"
   ]
  },
  {
   "cell_type": "code",
   "execution_count": 15,
   "metadata": {},
   "outputs": [],
   "source": [
    "import simpm.des as des\n",
    "import simpm.dist as dist\n",
    "env=des.Environment()\n",
    "myCustomers=[]\n",
    "s=des.Resource(env,\"servant\",1)\n",
    "\n",
    "\n",
    "def customer_process(c,arrival,servant):\n",
    "    yield c.do(\"arrive\",arrival)\n",
    "    yield c.get(servant,1)\n",
    "    yield c.do(\"get_served\",dist.norm(2,1))\n",
    "    yield c.put(servant,1)\n",
    "\n",
    "t=0\n",
    "for i in range(10000):\n",
    "    c=des.Entity(env,\"customer\")\n",
    "    env.process(customer_process(c,t,s))\n",
    "    t+=dist.expon(2).sample()\n",
    "\n",
    "env.run()"
   ]
  },
  {
   "cell_type": "code",
   "execution_count": 16,
   "metadata": {},
   "outputs": [
    {
     "data": {
      "text/plain": [
       "396.5417086732063"
      ]
     },
     "execution_count": 16,
     "metadata": {},
     "output_type": "execute_result"
    }
   ],
   "source": [
    "s.waiting_time().mean()"
   ]
  },
  {
   "cell_type": "code",
   "execution_count": 17,
   "metadata": {},
   "outputs": [
    {
     "data": {
      "text/html": [
       "<div>\n",
       "<style scoped>\n",
       "    .dataframe tbody tr th:only-of-type {\n",
       "        vertical-align: middle;\n",
       "    }\n",
       "\n",
       "    .dataframe tbody tr th {\n",
       "        vertical-align: top;\n",
       "    }\n",
       "\n",
       "    .dataframe thead th {\n",
       "        text-align: right;\n",
       "    }\n",
       "</style>\n",
       "<table border=\"1\" class=\"dataframe\">\n",
       "  <thead>\n",
       "    <tr style=\"text-align: right;\">\n",
       "      <th></th>\n",
       "      <th>time</th>\n",
       "      <th>in_use</th>\n",
       "      <th>idle</th>\n",
       "      <th>queue_length</th>\n",
       "    </tr>\n",
       "  </thead>\n",
       "  <tbody>\n",
       "    <tr>\n",
       "      <th>0</th>\n",
       "      <td>0.000000</td>\n",
       "      <td>0.0</td>\n",
       "      <td>1.0</td>\n",
       "      <td>1.0</td>\n",
       "    </tr>\n",
       "    <tr>\n",
       "      <th>1</th>\n",
       "      <td>0.000000</td>\n",
       "      <td>1.0</td>\n",
       "      <td>0.0</td>\n",
       "      <td>0.0</td>\n",
       "    </tr>\n",
       "    <tr>\n",
       "      <th>2</th>\n",
       "      <td>1.045472</td>\n",
       "      <td>1.0</td>\n",
       "      <td>0.0</td>\n",
       "      <td>1.0</td>\n",
       "    </tr>\n",
       "    <tr>\n",
       "      <th>3</th>\n",
       "      <td>3.066816</td>\n",
       "      <td>1.0</td>\n",
       "      <td>0.0</td>\n",
       "      <td>2.0</td>\n",
       "    </tr>\n",
       "    <tr>\n",
       "      <th>4</th>\n",
       "      <td>3.598677</td>\n",
       "      <td>0.0</td>\n",
       "      <td>1.0</td>\n",
       "      <td>2.0</td>\n",
       "    </tr>\n",
       "    <tr>\n",
       "      <th>...</th>\n",
       "      <td>...</td>\n",
       "      <td>...</td>\n",
       "      <td>...</td>\n",
       "      <td>...</td>\n",
       "    </tr>\n",
       "    <tr>\n",
       "      <th>29995</th>\n",
       "      <td>20682.727801</td>\n",
       "      <td>0.0</td>\n",
       "      <td>1.0</td>\n",
       "      <td>2.0</td>\n",
       "    </tr>\n",
       "    <tr>\n",
       "      <th>29996</th>\n",
       "      <td>20682.727801</td>\n",
       "      <td>1.0</td>\n",
       "      <td>0.0</td>\n",
       "      <td>1.0</td>\n",
       "    </tr>\n",
       "    <tr>\n",
       "      <th>29997</th>\n",
       "      <td>20683.900777</td>\n",
       "      <td>0.0</td>\n",
       "      <td>1.0</td>\n",
       "      <td>1.0</td>\n",
       "    </tr>\n",
       "    <tr>\n",
       "      <th>29998</th>\n",
       "      <td>20683.900777</td>\n",
       "      <td>1.0</td>\n",
       "      <td>0.0</td>\n",
       "      <td>0.0</td>\n",
       "    </tr>\n",
       "    <tr>\n",
       "      <th>29999</th>\n",
       "      <td>20685.219313</td>\n",
       "      <td>0.0</td>\n",
       "      <td>1.0</td>\n",
       "      <td>0.0</td>\n",
       "    </tr>\n",
       "  </tbody>\n",
       "</table>\n",
       "<p>30000 rows × 4 columns</p>\n",
       "</div>"
      ],
      "text/plain": [
       "               time  in_use  idle  queue_length\n",
       "0          0.000000     0.0   1.0           1.0\n",
       "1          0.000000     1.0   0.0           0.0\n",
       "2          1.045472     1.0   0.0           1.0\n",
       "3          3.066816     1.0   0.0           2.0\n",
       "4          3.598677     0.0   1.0           2.0\n",
       "...             ...     ...   ...           ...\n",
       "29995  20682.727801     0.0   1.0           2.0\n",
       "29996  20682.727801     1.0   0.0           1.0\n",
       "29997  20683.900777     0.0   1.0           1.0\n",
       "29998  20683.900777     1.0   0.0           0.0\n",
       "29999  20685.219313     0.0   1.0           0.0\n",
       "\n",
       "[30000 rows x 4 columns]"
      ]
     },
     "execution_count": 17,
     "metadata": {},
     "output_type": "execute_result"
    }
   ],
   "source": [
    "s.status_log()"
   ]
  },
  {
   "cell_type": "code",
   "execution_count": 18,
   "metadata": {},
   "outputs": [
    {
     "data": {
      "text/plain": [
       "191.9516"
      ]
     },
     "execution_count": 18,
     "metadata": {},
     "output_type": "execute_result"
    }
   ],
   "source": [
    "s.status_log()[\"queue_length\"].mean()"
   ]
  },
  {
   "cell_type": "code",
   "execution_count": 19,
   "metadata": {},
   "outputs": [
    {
     "data": {
      "text/plain": [
       "<Axes: xlabel='time'>"
      ]
     },
     "execution_count": 19,
     "metadata": {},
     "output_type": "execute_result"
    },
    {
     "data": {
      "image/png": "[encoded data removed]",
      "text/plain": [
       "<Figure size 640x480 with 1 Axes>"
      ]
     },
     "metadata": {},
     "output_type": "display_data"
    }
   ],
   "source": [
    "import matplotlib.pyplot as plt\n",
    "s.status_log().plot(\"time\",\"queue_length\")"
   ]
  },
  {
   "cell_type": "markdown",
   "metadata": {},
   "source": [
    "#of trucks: l->3,s->2 \n",
    "* Capacity (cm):l->20,s->15 \n",
    "* Loading Time (Minutes):l->5,s->3 \n",
    "* Haul Time(Minutes): l->35, s->25 \n",
    "* Dump Time (Minutes):l->2,s->1.5 \n",
    "* Return Time (Minutes):l->20,s->13 \n"
   ]
  },
  {
   "cell_type": "code",
   "execution_count": 20,
   "metadata": {},
   "outputs": [],
   "source": [
    "import simpm.des as des\n",
    "def test_truck_numbers(n):\n",
    "    env=des.Environment()\n",
    "    ts=[]\n",
    "\n",
    "    for i in range(n):\n",
    "        lt=des.Entity(env,\"truck\")\n",
    "        lt[\"capacity\"]=20\n",
    "        lt[\"loading time\"]=5\n",
    "        lt[\"hauling time\"]=35\n",
    "        lt[\"dumping time\"]=2\n",
    "        lt[\"returning time\"]=20\n",
    "        ts.append(lt)\n",
    "    for i in range(2):\n",
    "        st=des.Entity(env,\"truck\")\n",
    "        st[\"capacity\"]=15\n",
    "        st[\"loading time\"]=3\n",
    "        st[\"hauling time\"]=25\n",
    "        st[\"dumping time\"]=1.5\n",
    "        st[\"returning time\"]=13\n",
    "        ts.append(st)\n",
    "\n",
    "    dirt=des.Resource(env,\"dirt\",init=10000,capacity=10000)\n",
    "    loader=des.Resource(env,\"loader\",init=2)\n",
    "    dump_station=des.Resource(env,\"dump_station\",init=1)\n",
    "\n",
    "    def truck_process(truck_e,loader,dump_station,dirt):\n",
    "        while True:\n",
    "            yield truck_e.get(loader,1)\n",
    "            yield truck_e.get(dirt,truck_e[\"capacity\"])\n",
    "            yield truck_e.do(\"loading\",truck_e[\"loading time\"])\n",
    "            yield truck_e.put(loader,1)\n",
    "            yield truck_e.do(\"hauling\",truck_e[\"hauling time\"])\n",
    "            yield truck_e.get(dump_station,1)\n",
    "            yield truck_e.do(\"dumping\",truck_e[\"dumping time\"])\n",
    "            yield truck_e.put(dump_station,1)\n",
    "            yield truck_e.do(\"returning\",truck_e[\"returning time\"])\n",
    "\n",
    "    for truck in ts:\n",
    "        env.process(truck_process(truck,loader,dump_station,dirt))\n",
    "\n",
    "\n",
    "    env.run()        \n",
    "    return s.waiting_time().mean()"
   ]
  }
 ],
 "metadata": {
  "kernelspec": {
   "display_name": "Python 3",
   "language": "python",
   "name": "python3"
  },
  "language_info": {
   "codemirror_mode": {
    "name": "ipython",
    "version": 3
   },
   "file_extension": ".py",
   "mimetype": "text/x-python",
   "name": "python",
   "nbconvert_exporter": "python",
   "pygments_lexer": "ipython3",
   "version": "3.11.3"
  }
 },
 "nbformat": 4,
 "nbformat_minor": 2
}
