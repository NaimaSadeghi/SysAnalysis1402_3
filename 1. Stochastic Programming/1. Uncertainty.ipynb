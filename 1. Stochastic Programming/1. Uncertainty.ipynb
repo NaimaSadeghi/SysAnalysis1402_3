{
 "cells": [
  {
   "cell_type": "markdown",
   "metadata": {},
   "source": [
    "<center>\n",
    "In the name of God\n",
    "<br>\n",
    "<h3>System Analysis and Design Course</h3>\n",
    "\n",
    "<br>\n",
    "Dr. Naimeh Sadeghi\n",
    "<br>\n",
    "Email: naima.sadeghi@gmail.com\n",
    "<br>\n",
    "<br>\n",
    "<img src=\"Figures/kntu.png\" width=\"50px\" height=\"50px\"/> \n",
    "<br>\n",
    "K. N. Toosi University of Technology\n",
    "<br>\n",
    "\n",
    "</center>"
   ]
  },
  {
   "cell_type": "markdown",
   "metadata": {},
   "source": [
    "Date: 2/17/2024"
   ]
  },
  {
   "cell_type": "markdown",
   "metadata": {},
   "source": [
    "# Uncertainty\n",
    "* Casual nondeterminism: Bohr/ Copenhagen..\n",
    "* Predictive nondeterminism: Einstein\n"
   ]
  },
  {
   "cell_type": "markdown",
   "metadata": {},
   "source": [
    "<img src=\"./Figures/einstein.png\"  height=\"200px\"/> "
   ]
  },
  {
   "cell_type": "code",
   "execution_count": 2,
   "metadata": {},
   "outputs": [],
   "source": [
    "import random\n",
    "def rollDie():\n",
    "    \"\"\"returns a random int between 1 and 6\"\"\"\n",
    "    return random.choice([1,2,3,4,5,6])\n"
   ]
  },
  {
   "cell_type": "markdown",
   "metadata": {},
   "source": [
    "## Multiplicative law\n",
    "P(A,B)=P(A)*P(B)"
   ]
  },
  {
   "cell_type": "markdown",
   "metadata": {},
   "source": [
    "## Inferential Statistics\n",
    "\n",
    "Random sample tend to exhibit the same properties as the population from which it is drawn."
   ]
  },
  {
   "cell_type": "markdown",
   "metadata": {},
   "source": [
    "How many samples do we need to have justified confidence?"
   ]
  },
  {
   "cell_type": "markdown",
   "metadata": {},
   "source": [
    "- Variance: $\\sigma^2 =\\ sum(x-mean)^2/n$\n",
    "- $n$: number of data\n",
    "- Standard deviation: $\\sigma = \\sqrt{Variance}$\n",
    "- Coefficient of variation: $CV=\\sigma/mean$"
   ]
  },
  {
   "cell_type": "markdown",
   "metadata": {},
   "source": [
    "# Income inequality\n",
    "* CV is a better metric for evaluating income inequality than std\n",
    "<br>\n",
    "<img src=\"./Figures/Income_inequality.png\"  height=\"200px\"/> "
   ]
  },
  {
   "cell_type": "markdown",
   "metadata": {},
   "source": [
    "## Distributions\n"
   ]
  },
  {
   "cell_type": "code",
   "execution_count": 4,
   "metadata": {},
   "outputs": [
    {
     "data": {
      "text/plain": [
       "Text(0, 0.5, 'Number of Occurrences')"
      ]
     },
     "execution_count": 4,
     "metadata": {},
     "output_type": "execute_result"
    },
    {
     "data": {
      "image/png": "[encoded data removed]",
      "text/plain": [
       "<Figure size 640x480 with 1 Axes>"
      ]
     },
     "metadata": {},
     "output_type": "display_data"
    }
   ],
   "source": [
    "import matplotlib.pyplot as plt\n",
    "def r():\n",
    "    return random.random()*6\n",
    "val=[]\n",
    "for i in range(10000):\n",
    "    val.append(r()+r()+r()+r()+r()+r()+r())\n",
    "plt.hist(val,bins=40,ec='k')\n",
    "plt.xlabel(\"Outcome\")\n",
    "plt.ylabel(\"Number of Occurrences\")"
   ]
  }
 ],
 "metadata": {
  "kernelspec": {
   "display_name": "Python 3",
   "language": "python",
   "name": "python3"
  },
  "language_info": {
   "codemirror_mode": {
    "name": "ipython",
    "version": 3
   },
   "file_extension": ".py",
   "mimetype": "text/x-python",
   "name": "python",
   "nbconvert_exporter": "python",
   "pygments_lexer": "ipython3",
   "version": "3.11.3"
  }
 },
 "nbformat": 4,
 "nbformat_minor": 2
}
