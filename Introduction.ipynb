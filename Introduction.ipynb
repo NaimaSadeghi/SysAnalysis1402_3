{
 "cells": [
  {
   "cell_type": "markdown",
   "metadata": {},
   "source": [
    "<center>\n",
    "In the name of God\n",
    "<br>\n",
    "<h3>System Analysis and Design Course</h3>\n",
    "\n",
    "<br>\n",
    "Dr. Naimeh Sadeghi\n",
    "<br>\n",
    "Email: naima.sadeghi@gmail.com\n",
    "<br>\n",
    "<br>\n",
    "<img src=\"./Figures/kntu.png\" width=\"50px\" height=\"50px\"/> \n",
    "<br>\n",
    "Department of Civil Engineering\n",
    "<br>\n",
    "K. N. Toosi University of Technology\n",
    "<br>\n",
    "1402-1403\n",
    "<br>\n",
    "\n",
    "</center>"
   ]
  },
  {
   "cell_type": "markdown",
   "metadata": {},
   "source": [
    "# Introduction\n",
    " "
   ]
  },
  {
   "cell_type": "markdown",
   "metadata": {},
   "source": [
    "## Topics\n",
    "* Stochastic programming\n",
    "* Intro to data analysis and machine learning\n",
    "* Discrete Event Simulation and Agent-based Simulation\n",
    "* Reinforcement learning"
   ]
  },
  {
   "cell_type": "markdown",
   "metadata": {},
   "source": [
    "## Programming languages\n",
    "* Python\n",
    "* Javascript\n",
    "* HTML/CSS"
   ]
  },
  {
   "cell_type": "markdown",
   "metadata": {},
   "source": [
    "## Code of Conduct\n",
    "* laptop is necessary\n",
    "* exercises should be uploaded to VC\n",
    "* -0.25 for absence, not having laptop, or failing to upload class exercise\n",
    "* class start time 9:05  "
   ]
  },
  {
   "cell_type": "markdown",
   "metadata": {},
   "source": [
    "## Grading\n",
    "* Homeworks: 4.5 points\n",
    "* Presentation: 1.5 points\n",
    "* Midterm Exam: 5 points\n",
    "* Final Exam: 7 points\n",
    "* Final Project: 2 points\n"
   ]
  },
  {
   "cell_type": "markdown",
   "metadata": {},
   "source": [
    "## Mani References\n",
    "* Guttag book: Introduction to programming and computation using Python\n",
    "* AbouRizk book: Construction Simulation\n",
    "* Jadi Machine learning\n",
    "https://github.com/jadijadi/machine_learning_with_python_jadi\n",
    "* w3school \n",
    "https://www.w3schools.com/python/python_ml_getting_started.asp\n",
    "https://www.w3schools.com/ai/ai_javascript.asp\n",
    "\n"
   ]
  }
 ],
 "metadata": {
  "kernelspec": {
   "display_name": "Python 3",
   "language": "python",
   "name": "python3"
  },
  "language_info": {
   "codemirror_mode": {
    "name": "ipython",
    "version": 3
   },
   "file_extension": ".py",
   "mimetype": "text/x-python",
   "name": "python",
   "nbconvert_exporter": "python",
   "pygments_lexer": "ipython3",
   "version": "3.11.3"
  }
 },
 "nbformat": 4,
 "nbformat_minor": 2
}
